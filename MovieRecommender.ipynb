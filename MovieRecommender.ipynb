{
 "cells": [
  {
   "cell_type": "code",
   "execution_count": null,
   "metadata": {},
   "outputs": [
    {
     "name": "stdout",
     "output_type": "stream",
     "text": [
      "Loading file ./ratings_train.csv ...\n",
      "Loading file ./ratings_test.csv ...\n",
      "Het laden van de bestanden duurde:  3.82s \n",
      "\n",
      "Aan het sorteren ...\n",
      "+-------+------------------+--------------+\n",
      "|Film ID|       Beoordeling|Aantal ratings|\n",
      "+-------+------------------+--------------+\n",
      "|    296| 4.171089877038746|         66769|\n",
      "|    356| 4.024502624191383|         65544|\n",
      "|    593| 4.174403785187427|         62771|\n",
      "|    318| 4.445266083178943|         62612|\n",
      "|    480|3.6606881097201396|         59351|\n",
      "|    260| 4.186831321503402|         53931|\n",
      "|    110| 4.036158521668768|         53141|\n",
      "|    589|3.9282337732499806|         51828|\n",
      "|   2571| 4.184518080571978|         50911|\n",
      "|    527| 4.306556713548518|         49415|\n",
      "|    457|3.9827953931465947|         49231|\n",
      "|      1| 3.914494583367272|         49108|\n",
      "|    150| 3.865528787432085|         47486|\n",
      "|    780|3.3601515704502027|         46579|\n",
      "|   1210| 4.001419324315606|         46501|\n",
      "|     50| 4.330394044965702|         46213|\n",
      "|    592|3.3997016420575807|         45918|\n",
      "|   1196|4.1863570714365075|         45005|\n",
      "|   2858|4.1526334687282604|         44561|\n",
      "|     32|3.8921648000719653|         44466|\n",
      "+-------+------------------+--------------+\n",
      "only showing top 20 rows\n",
      "\n",
      "Het sorteren en laten zien van de tabel duurde: 136.02s \n",
      "\n"
     ]
    }
   ],
   "source": [
    "\n",
    "\n",
    "from time import time\n",
    "\n",
    "# Benchmark tijd\n",
    "global benchmark\n",
    "\n",
    "# Reset de tijd van de benchmark\n",
    "def benchmark_reset():\n",
    "    global benchmark\n",
    "    benchmark = time()\n",
    "    \n",
    "# Verkrijg de 'tijd' van de benchmark \n",
    "def benchmark_get():\n",
    "    global benchmark\n",
    "    return str(round(time() - benchmark, 2)) + \"s\"\n",
    "\n",
    "# Functie om een csv in te kunnen lezen, de header te verwijderen en elke regel te splitten (met \"::\" erin)\n",
    "# @param = csv bestand; @return = csv bestand zonder header en gesplit;\n",
    "def csvreader(csv_file):\n",
    "    print(\"Loading file\", csv_file, \"...\")\n",
    "    reader = sc.textFile(csv_file)\n",
    "    header = reader.first()\n",
    "    filterHeader = reader.filter(lambda x: x != header)\n",
    "    splitRow = filterHeader.map(lambda x: x.split('::'))\n",
    "    return splitRow\n",
    "\n",
    "# Lees ratings_train bestand en sla het op in een variabele\n",
    "benchmark_reset()\n",
    "csvRatingTrain = csvreader(\"./ratings_train.csv\")\n",
    "\n",
    "# Lees ratings_test bestand en sla het op in een variabele\n",
    "csvRatingTest = csvreader(\"./ratings_test.csv\")\n",
    "print(\"Het laden van de bestanden duurde: \", benchmark_get(), \"\\n\")\n",
    "\n",
    "benchmark_reset()\n",
    "print(\"Aan het sorteren ...\")\n",
    "\n",
    "# Haal alle geruikers eruit\n",
    "ratingZonderGebruikers = csvRatingTrain.map(lambda x: x[1:3])\n",
    "\n",
    "# ......................... en sorteer ze\n",
    "gesorteerdeData = ratingZonderGebruikers.map(lambda x: (x[0], float(x[1]))).groupByKey()\n",
    "\n",
    "# Filter alleen de films met 10.000 0f meer ratings\n",
    "filmsMetHogeScore = gesorteerdeData.filter(lambda x: len(x[1]) >= 20000)\n",
    "\n",
    "# \n",
    "aantalFilmRatings = filmsMetHogeScore.map(lambda x: (x[0], x[1], len(x[1])))\n",
    "\n",
    "#\n",
    "gemiddelde = aantalFilmRatings.map(lambda x: (x[0], sum(x[1]) / len(x[1]), x[2]))\n",
    "\n",
    "# De films op volgorde van ratings (hoog - laag)\n",
    "films = gemiddelde.sortBy(lambda x: x[2], ascending=False)\n",
    "\n",
    "# Laat tabel zien met gegevens\n",
    "films.toDF(['Film ID', 'Beoordeling', 'Aantal ratings']).show()\n",
    "\n",
    "print(\"Aantal films in de dataset:\", films.count())\n",
    "\n",
    "print(\"Het sorteren en laten zien van de tabel duurde:\", benchmark_get(), \"\\n\")"
   ]
  },
  {
   "cell_type": "code",
   "execution_count": 3,
   "metadata": {},
   "outputs": [
    {
     "name": "stdout",
     "output_type": "stream",
     "text": [
      "+------------+--------------------+\n",
      "|Gebruiker ID|             Film ID|\n",
      "+------------+--------------------+\n",
      "|       62505|[1, 17, 32, 47, 1...|\n",
      "|       67056|[47, 50, 147, 175...|\n",
      "|       28916|[2, 18, 19, 23, 2...|\n",
      "|       75265|[110, 188, 366, 3...|\n",
      "|        7505|[1, 4, 5, 7, 11, ...|\n",
      "|       19307|[16, 173, 246, 43...|\n",
      "|       20711|[34, 110, 111, 16...|\n",
      "|        5964|[3, 70, 110, 240,...|\n",
      "|       42659|[110, 260, 329, 3...|\n",
      "|       66560|[1, 10, 16, 19, 2...|\n",
      "|       61988|[10, 296, 317, 50...|\n",
      "|       50581|[19, 31, 256, 327...|\n",
      "|      130731|[1, 4, 6, 7, 10, ...|\n",
      "|       58505|[1, 34, 47, 110, ...|\n",
      "|       29109|[410, 466, 468, 7...|\n",
      "|       25868|[3, 5, 7, 11, 17,...|\n",
      "|       60529|[2, 10, 20, 104, ...|\n",
      "|       71491|[593, 788, 1517, ...|\n",
      "|       42508|[1, 2, 3, 5, 6, 7...|\n",
      "|       13896|[6, 10, 32, 70, 2...|\n",
      "+------------+--------------------+\n",
      "only showing top 20 rows\n",
      "\n",
      "Het laden van de bekeken films van de gebruikers duurde: 119.75s \n",
      "\n"
     ]
    }
   ],
   "source": [
    "benchmark_reset()\n",
    "\n",
    "\n",
    "gebruikerFilms = csvRatingTrain.map(lambda x: x[0:2]).groupByKey().mapValues(list)\n",
    "\n",
    "# Maak een lijst met de films die de gebruiker gezien heeft\n",
    "listGebruikerFilms = gebruikerFilms.collect()\n",
    "\n",
    "# Maak een lijst van de beste films\n",
    "listBesteFilms = films.map(lambda x: x[0]).collect()\n",
    "\n",
    "# Laat tabel zien met gegevens\n",
    "gebruikerFilms.toDF(['Gebruiker ID', 'Film ID']).show()\n",
    "\n",
    "print(\"Het laden van de bekeken films van de gebruikers duurde:\", benchmark_get(), \"\\n\")"
   ]
  },
  {
   "cell_type": "code",
   "execution_count": 5,
   "metadata": {},
   "outputs": [
    {
     "name": "stdout",
     "output_type": "stream",
     "text": [
      "Het aanbevelen van de films duurde: 23.83s \n",
      "\n"
     ]
    }
   ],
   "source": [
    "benchmark_reset()\n",
    "\n",
    "lijst_nieuw = []\n",
    "\n",
    "listBesteFilms_set = set(listBesteFilms)\n",
    "for user, user_films in listGebruikerFilms:\n",
    "    for not_user_film in listBesteFilms_set-set(user_films):\n",
    "        lijst_nieuw.append([user, not_user_film])\n",
    "    \n",
    "print(\"Het aanbevelen van de films duurde:\", benchmark_get(), \"\\n\")"
   ]
  },
  {
   "cell_type": "code",
   "execution_count": 6,
   "metadata": {},
   "outputs": [
    {
     "name": "stdout",
     "output_type": "stream",
     "text": [
      "+------------+--------------------+--------------------+\n",
      "|Gebruiker ID|       Bekeken Films|    Aanbevolen films|\n",
      "+------------+--------------------+--------------------+\n",
      "|       35129|[1, 2, 7, 19, 39,...|[34, 17, 110, 454...|\n",
      "|       54570|[110, 153, 165, 1...|[3793, 34, 17, 22...|\n",
      "|      102075|[1, 3, 7, 11, 17,...|[110, 223, 1193, ...|\n",
      "|       65378|[1, 3, 5, 7, 32, ...|[3793, 34, 17, 11...|\n",
      "|      122346|[527, 788, 899, 9...|[3793, 34, 17, 11...|\n",
      "|       47732|[27, 38, 318, 765...|[3793, 34, 17, 11...|\n",
      "|       89829|[9, 17, 22, 61, 1...|[3793, 34, 110, 2...|\n",
      "|      109769|[4, 34, 39, 41, 4...|[3793, 17, 110, 2...|\n",
      "|        8231|[1, 3, 5, 6, 14, ...|[3793, 17, 110, 2...|\n",
      "|       61988|[10, 296, 317, 50...|[3793, 34, 17, 11...|\n",
      "|       36764|[1, 25, 32, 50, 6...|[3793, 34, 17, 11...|\n",
      "|       99605|[50, 58, 123, 150...|[34, 17, 110, 589...|\n",
      "|       69327|[1, 2, 6, 20, 23,...|[3793, 34, 17, 22...|\n",
      "|       37728|[44, 198, 230, 26...|[3793, 34, 17, 11...|\n",
      "|      103791|[2, 5, 10, 11, 16...|[3793, 17, 223, 1...|\n",
      "|       39217|[6, 10, 21, 70, 1...|[3793, 34, 17, 22...|\n",
      "|       95434|[111, 750, 910, 1...|[3793, 34, 17, 11...|\n",
      "|       78305|[1, 2, 7, 10, 19,...|[58559, 17, 1206,...|\n",
      "|       84699|[1, 2, 3, 6, 11, ...|[3793, 185, 4306,...|\n",
      "|       30690|[11, 21, 32, 47, ...|[3793, 34, 17, 11...|\n",
      "+------------+--------------------+--------------------+\n",
      "only showing top 20 rows\n",
      "\n",
      "Het laten zien van de bekeken en aanbevolen films duurde: 82.84s \n",
      "\n"
     ]
    }
   ],
   "source": [
    "benchmark_reset()\n",
    "\n",
    "#\n",
    "aanbevolenFilms = sc.parallelize(lijst_nieuw).groupByKey().mapValues(list)\n",
    "\n",
    "#gesorteerdeFilms = aanbevolenFilms.groupByKey().mapValues(list)\n",
    "\n",
    "#\n",
    "joinFilmOpGebruiker = gebruikerFilms.join(aanbevolenFilms)\n",
    "\n",
    "#\n",
    "mapFilms = joinFilmOpGebruiker.map(lambda x: (x[0], x[1][0], x[1][1]))\n",
    "\n",
    "# Laat tabel zien met gegevens\n",
    "mapFilms.toDF(['Gebruiker ID', 'Bekeken Films', 'Aanbevolen films']).show()\n",
    "\n",
    "print(\"Het laten zien van de bekeken en aanbevolen films duurde:\", benchmark_get(), \"\\n\")"
   ]
  },
  {
   "cell_type": "code",
   "execution_count": 7,
   "metadata": {},
   "outputs": [
    {
     "data": {
      "text/plain": [
       "50000"
      ]
     },
     "execution_count": 7,
     "metadata": {},
     "output_type": "execute_result"
    }
   ],
   "source": [
    "# Aantal beoordelingen\n",
    "testBeoordeling = csvRatingTest.map(lambda x: (x[0], x[1]))\n",
    "testBeoordeling.count()"
   ]
  },
  {
   "cell_type": "code",
   "execution_count": 8,
   "metadata": {},
   "outputs": [
    {
     "name": "stdout",
     "output_type": "stream",
     "text": [
      "+-----------+--------------------+--------------------+-------------+\n",
      "|Gebuiker_ID|       Bekeken_films|    Aanbevolen_films|Volgende_Film|\n",
      "+-----------+--------------------+--------------------+-------------+\n",
      "|       7505|[1, 4, 5, 7, 11, ...|[3793, 1193, 589,...|         1455|\n",
      "|      74770|[593, 1097, 1193,...|[3793, 34, 17, 11...|          296|\n",
      "|       8231|[1, 3, 5, 6, 14, ...|[3793, 17, 110, 2...|          110|\n",
      "|     111557|[19, 47, 110, 260...|[34, 17, 223, 589...|        60072|\n",
      "|      15831|[2, 6, 10, 11, 12...|[3793, 34, 17, 22...|         1036|\n",
      "|      25048|[912, 1127, 1210,...|[3793, 34, 17, 11...|         2688|\n",
      "|     129913|[50, 64, 111, 356...|[3793, 34, 17, 11...|         5478|\n",
      "|      73430|[47, 50, 110, 260...|[3793, 34, 17, 22...|         2730|\n",
      "|     103199|[1, 2, 3, 5, 6, 1...|[4306, 34, 17, 11...|         3495|\n",
      "|      98870|[43, 47, 50, 223,...|[34, 17, 110, 589...|          608|\n",
      "|      70933|[1, 47, 110, 150,...|[3793, 34, 17, 22...|          736|\n",
      "|     118154|[16, 32, 65, 147,...|[3793, 34, 17, 11...|        27773|\n",
      "|      59845|[3, 47, 104, 223,...|[3793, 34, 17, 11...|         1200|\n",
      "|     125244|[3, 5, 7, 10, 11,...|[3793, 34, 110, 2...|          765|\n",
      "|     105810|[231, 260, 316, 3...|[3793, 34, 17, 11...|         2701|\n",
      "|      75899|[47, 50, 593, 594...|[3793, 34, 17, 11...|          933|\n",
      "|       4203|[2, 6, 10, 14, 19...|[3793, 17, 223, 1...|         2563|\n",
      "|      23798|[50, 293, 296, 51...|[3793, 34, 17, 11...|         1223|\n",
      "|      74607|[10, 50, 185, 208...|[3793, 34, 17, 11...|        48780|\n",
      "|      98151|[21, 34, 47, 50, ...|[3793, 17, 110, 2...|           17|\n",
      "+-----------+--------------------+--------------------+-------------+\n",
      "only showing top 20 rows\n",
      "\n",
      "Het joinen van de bekeken, aanbevolen en volgende film(s) duurde: 76.73s \n",
      "\n"
     ]
    }
   ],
   "source": [
    "benchmark_reset()\n",
    "\n",
    "#\n",
    "joinTabellen = joinFilmOpGebruiker.join(testBeoordeling)\n",
    "\n",
    "# \n",
    "volledigeTabel = joinTabellen.map(lambda x: (x[0], x[1][0][0], x[1][0][1], x[1][1]))\n",
    "\n",
    "# Sla alle gegevens op\n",
    "result = volledigeTabel.toDF(['Gebuiker_ID', 'Bekeken_films', 'Aanbevolen_films', 'Volgende_Film'])\n",
    "\n",
    "# Tel aantal gegevens erin\n",
    "volledigeTabel.count()\n",
    "\n",
    "# Laat tabel zien met gegevens\n",
    "result.show()\n",
    "\n",
    "print(\"Het joinen van de bekeken, aanbevolen en volgende film(s) duurde:\", benchmark_get(), \"\\n\")"
   ]
  },
  {
   "cell_type": "code",
   "execution_count": 11,
   "metadata": {},
   "outputs": [
    {
     "name": "stdout",
     "output_type": "stream",
     "text": [
      "+---------------------+------------------+\n",
      "|aantal_geraadde_films| Succes_Percentage|\n",
      "+---------------------+------------------+\n",
      "|                13370|26.740000000000002|\n",
      "+---------------------+------------------+\n",
      "\n"
     ]
    }
   ],
   "source": [
    "result.registerTempTable(\"tempTabel\")\n",
    "# Aantal geraadde films\n",
    "query = sqlContext.sql(\"\"\"SELECT count(*) AS aantal_geraadde_films, (count(*)/50000)*100 AS Succes_Percentage FROM tempTabel WHERE array_contains(Aanbevolen_films, Volgende_Film) AND Gebuiker_ID = Gebuiker_ID\"\"\").show()\n",
    "\n",
    "\n"
   ]
  },
  {
   "cell_type": "code",
   "execution_count": null,
   "metadata": {
    "collapsed": true
   },
   "outputs": [],
   "source": []
  }
 ],
 "metadata": {
  "kernelspec": {
   "display_name": "Python 3",
   "language": "python",
   "name": "python3"
  },
  "language_info": {
   "codemirror_mode": {
    "name": "ipython",
    "version": 3
   },
   "file_extension": ".py",
   "mimetype": "text/x-python",
   "name": "python",
   "nbconvert_exporter": "python",
   "pygments_lexer": "ipython3",
   "version": "3.5.2"
  }
 },
 "nbformat": 4,
 "nbformat_minor": 2
}
